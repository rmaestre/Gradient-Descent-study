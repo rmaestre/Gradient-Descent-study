{
 "cells": [
  {
   "cell_type": "markdown",
   "metadata": {},
   "source": [
    "In this case, we will study and test it the mini batch gradient descent in order to take adventage of the parallel computation in the optimization process. Firstly we will study a single thread approach and finally we will implement by means of threads a parallel computation of the algorithm"
   ]
  },
  {
   "cell_type": "markdown",
   "metadata": {},
   "source": [
    "As we see in the before notebook example () we will fit a simple lineal model ($y = mx + b $) to a given data set $D=(x^N,y^N)$ of points where $x,y \\in R_2$\n",
    "\n",
    "Firstly **we need to find the paramters $m, b$ because are unknown** (are the paramters of our model) and $x, y$ are given by the dataset.\n",
    "\n",
    "\n",
    "In this case, the process to find the"
   ]
  },
  {
   "cell_type": "code",
   "execution_count": null,
   "metadata": {
    "collapsed": true
   },
   "outputs": [],
   "source": []
  }
 ],
 "metadata": {
  "kernelspec": {
   "display_name": "Python 2",
   "language": "python",
   "name": "python2"
  },
  "language_info": {
   "codemirror_mode": {
    "name": "ipython",
    "version": 2
   },
   "file_extension": ".py",
   "mimetype": "text/x-python",
   "name": "python",
   "nbconvert_exporter": "python",
   "pygments_lexer": "ipython2",
   "version": "2.7.10"
  }
 },
 "nbformat": 4,
 "nbformat_minor": 0
}
