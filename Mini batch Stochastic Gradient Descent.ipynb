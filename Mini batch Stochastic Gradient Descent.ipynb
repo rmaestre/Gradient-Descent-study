{
 "cells": [
  {
   "cell_type": "markdown",
   "metadata": {},
   "source": [
    "In this case, we will study and test it the mini batch gradient descent in order to take adventage of the parallel computation in the optimization process. Firstly we will study a single thread approach and finally we will implement by means of threads a parallel computation of the algorithm"
   ]
  },
  {
   "cell_type": "code",
   "execution_count": 35,
   "metadata": {
    "collapsed": true
   },
   "outputs": [],
   "source": [
    "%matplotlib inline  \n",
    "import numpy as np\n",
    "from mpl_toolkits.mplot3d import Axes3D\n",
    "from matplotlib import cm\n",
    "import matplotlib.pyplot as plt\n",
    "import random"
   ]
  },
  {
   "cell_type": "markdown",
   "metadata": {},
   "source": [
    "As we see in the before notebook example () we will fit a simple lineal model ($y = mx + b $) to a given data set $D=(x^N,y^N)$ of points where $x,y \\in R_2$\n",
    "\n",
    "In this case we will compute the Gradient for several batchs:\n",
    "\n",
    "&nbsp;&nbsp;&nbsp;Step 0: $m = \\text{random value}, b = \\text{random value}$, $bn = \\text{value for mini batch size}$\n",
    "\n",
    "&nbsp;&nbsp;&nbsp;Step 1: $\\text{minibatch} = \\text{sampling}(D,bn)$\n",
    "\n",
    "&nbsp;&nbsp;&nbsp;Step 2: $ m = m - (\\frac{2}{bn} \\sum_{i=1}^{bn} - x_i (y_i - (mx_i+b))) * \\alpha  $\n",
    "\n",
    "&nbsp;&nbsp;&nbsp;Step 3: $ b = b - (\\frac{2}{bn} \\sum_{i=1}^{bn} - (y_i - (mx_i+b))) * \\alpha  $\n",
    "\n",
    "&nbsp;&nbsp;&nbsp;Step 4: Go to Step 1 (after N iterations)\n",
    "\n",
    "Therefore **the average of the gradients over this subset (batchs of $bn$ size) is a stochastic gradient.**\n",
    "\n",
    "Notice that we can compute in a parallel way the mini batch SGD, sampling (in a parallel way) and executing the summatory also with a map reduce function. Check out the Spark implementation to see more:\n",
    "https://github.com/apache/spark/blob/master/mllib/src/main/scala/org/apache/spark/mllib/optimization/GradientDescent.scala#L224"
   ]
  },
  {
   "cell_type": "code",
   "execution_count": 36,
   "metadata": {
    "collapsed": true
   },
   "outputs": [],
   "source": [
    "def E(m,b):\n",
    "    \"\"\"\n",
    "    The cost function for our model\n",
    "    \"\"\"\n",
    "    global points\n",
    "    N = float(len(points))\n",
    "    error = 0\n",
    "    for point in points:\n",
    "        error += (point[0]-(m*point[1] + b)) ** 2\n",
    "    return error / N"
   ]
  },
  {
   "cell_type": "code",
   "execution_count": 37,
   "metadata": {
    "collapsed": false
   },
   "outputs": [],
   "source": [
    "points = np.genfromtxt(\"data.csv\", delimiter=\",\")\n",
    "data_X = [p[0] for p in points]\n",
    "data_Y = [p[1] for p in points]"
   ]
  },
  {
   "cell_type": "code",
   "execution_count": 38,
   "metadata": {
    "collapsed": true
   },
   "outputs": [],
   "source": [
    "def step_gradient(m,b,points, alpha = 0.00005):\n",
    "    \"\"\"\n",
    "    Calculate the drop of each parameter in the function (m,b)\n",
    "    by means of the derivate functions\n",
    "    \"\"\"\n",
    "    N = float(len(points))\n",
    "    m_descend = 0.0\n",
    "    b_descend = 0.0\n",
    "    for point in points:\n",
    "        m_descend += -(2/N) * point[0]*(point[1]-((m*point[0]) + b))\n",
    "        b_descend += -(2/N) * (point[1]-((m*point[0]) + b))\n",
    "    m_descend = m - (m_descend * alpha) \n",
    "    b_descend = b - (b_descend * alpha)\n",
    "    return (m_descend, b_descend)"
   ]
  },
  {
   "cell_type": "code",
   "execution_count": 39,
   "metadata": {
    "collapsed": false
   },
   "outputs": [
    {
     "name": "stdout",
     "output_type": "stream",
     "text": [
      "(1.3729489286580498, 0.066900749248610933)\n"
     ]
    },
    {
     "data": {
      "text/plain": [
       "2868.3435540374858"
      ]
     },
     "execution_count": 39,
     "metadata": {},
     "output_type": "execute_result"
    }
   ],
   "source": [
    "iterations_number = 100\n",
    "batch_size = 50\n",
    "precision = 0.00001\n",
    "m_old = -2\n",
    "b_old = 0\n",
    "    \n",
    "parameter_its = [(m_old, b_old)]\n",
    "for iteration in xrange(0, iterations_number):\n",
    "    B = np.random.randint(10,size=batch_size) # Sampling dataset\n",
    "    \n",
    "    m_new,b_new = step_gradient(m_old, b_old, points[B,:])\n",
    "    parameter_its.append((m_new,b_new))\n",
    "    if (abs(m_old-m_new)) < precision:\n",
    "        print(\"Breaking iterations in (%s it), no more precission achieved\" % iteration)\n",
    "        break\n",
    "    m_old = m_new\n",
    "    b_old = b_new\n",
    "print(m_new, b_new)\n",
    "E(m_old, b_old)"
   ]
  },
  {
   "cell_type": "code",
   "execution_count": 40,
   "metadata": {
    "collapsed": false
   },
   "outputs": [
    {
     "data": {
      "image/png": "[encoded data removed]",
      "text/plain": [
       "<matplotlib.figure.Figure at 0x1067d3590>"
      ]
     },
     "metadata": {},
     "output_type": "display_data"
    }
   ],
   "source": [
    "def plot_points_and_modelfit(m,b,toFile=False,iteration=0):\n",
    "    \"\"\"\n",
    "    \"\"\"\n",
    "    ablineValues = []\n",
    "    for x in data_X:\n",
    "        ablineValues.append(m*x+b)\n",
    "\n",
    "    plt.scatter(data_X,data_Y)\n",
    "    plt.plot(data_X, ablineValues, 'b')\n",
    "    plt.title(\"y=%s*x+%s\" % (round(m_new,4),round(b_new,4)))\n",
    "    if toFile:\n",
    "        plt.savefig('/tmp/tmp_%s.png' % iteration, bbox_inches='tight')\n",
    "    else:\n",
    "        plt.show()\n",
    "        \n",
    "for parameter in parameter_its:\n",
    "    plot_points_and_modelfit(parameter[0],parameter[1], True)"
   ]
  },
  {
   "cell_type": "markdown",
   "metadata": {
    "collapsed": true
   },
   "source": [
    "Finally, we have optimized As you can see the parameters $\\theta_2 = \\{1.371, 0.0668\\}$ with $E(\\theta_2) = 2852.9184543990164$"
   ]
  },
  {
   "cell_type": "code",
   "execution_count": null,
   "metadata": {
    "collapsed": true
   },
   "outputs": [],
   "source": []
  }
 ],
 "metadata": {
  "kernelspec": {
   "display_name": "Python 2",
   "language": "python",
   "name": "python2"
  },
  "language_info": {
   "codemirror_mode": {
    "name": "ipython",
    "version": 2
   },
   "file_extension": ".py",
   "mimetype": "text/x-python",
   "name": "python",
   "nbconvert_exporter": "python",
   "pygments_lexer": "ipython2",
   "version": "2.7.10"
  }
 },
 "nbformat": 4,
 "nbformat_minor": 0
}
